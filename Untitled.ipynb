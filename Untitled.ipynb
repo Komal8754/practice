{
 "cells": [
  {
   "cell_type": "code",
   "execution_count": 10,
   "metadata": {},
   "outputs": [
    {
     "name": "stdout",
     "output_type": "stream",
     "text": [
      "name: Fariha Shah\n",
      "age: 22\n",
      "degreename: BE Petroleum and Gas\n",
      "university: Dawood University of Engineering and Technology\n",
      "classenrolledin: AI fro everyone\n"
     ]
    }
   ],
   "source": [
    "name= 'Fariha Shah'\n",
    "age='22'\n",
    "degreename= 'BE Petroleum and Gas'\n",
    "university= 'Dawood University of Engineering and Technology'\n",
    "classenrolledin= 'AI fro everyone'\n",
    "print(\"name:\", name)\n",
    "print(\"age:\", age)\n",
    "print(\"degreename:\", degreename)\n",
    "print(\"university:\", university)\n",
    "print(\"classenrolledin:\", classenrolledin)"
   ]
  },
  {
   "cell_type": "code",
   "execution_count": null,
   "metadata": {},
   "outputs": [],
   "source": [
    "\n"
   ]
  },
  {
   "cell_type": "code",
   "execution_count": null,
   "metadata": {},
   "outputs": [],
   "source": []
  }
 ],
 "metadata": {
  "kernelspec": {
   "display_name": "Python 3",
   "language": "python",
   "name": "python3"
  },
  "language_info": {
   "codemirror_mode": {
    "name": "ipython",
    "version": 3
   },
   "file_extension": ".py",
   "mimetype": "text/x-python",
   "name": "python",
   "nbconvert_exporter": "python",
   "pygments_lexer": "ipython3",
   "version": "3.7.4"
  }
 },
 "nbformat": 4,
 "nbformat_minor": 2
}
