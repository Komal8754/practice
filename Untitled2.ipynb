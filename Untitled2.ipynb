{
 "cells": [
  {
   "cell_type": "code",
   "execution_count": 1,
   "metadata": {},
   "outputs": [
    {
     "name": "stdout",
     "output_type": "stream",
     "text": [
      "Name:  KOMAL\n",
      "Education:  UNDER-GRADUATE STUDENT\n",
      "University:  SSUET\n",
      "Department:  Biomedical\n",
      "Age:  24\n",
      "Other Intrests: FINEARTS\n"
     ]
    }
   ],
   "source": [
    "Name = 'KOMAL'\n",
    "Education = 'UNDER-GRADUATE STUDENT'\n",
    "University = 'SSUET'\n",
    "Department = 'Biomedical'\n",
    "Age = '24'\n",
    "OtherIntrests = 'FINEARTS'\n",
    "print(\"Name: \",Name)\n",
    "print(\"Education: \",Education)\n",
    "print(\"University: \",University)\n",
    "print(\"Department: \",Department)\n",
    "print(\"Age: \",Age)\n",
    "print(\"Other Intrests:\",OtherIntrests)"
   ]
  },
  {
   "cell_type": "code",
   "execution_count": null,
   "metadata": {},
   "outputs": [],
   "source": []
  }
 ],
 "metadata": {
  "kernelspec": {
   "display_name": "Python 3",
   "language": "python",
   "name": "python3"
  },
  "language_info": {
   "codemirror_mode": {
    "name": "ipython",
    "version": 3
   },
   "file_extension": ".py",
   "mimetype": "text/x-python",
   "name": "python",
   "nbconvert_exporter": "python",
   "pygments_lexer": "ipython3",
   "version": "3.7.4"
  }
 },
 "nbformat": 4,
 "nbformat_minor": 2
}
