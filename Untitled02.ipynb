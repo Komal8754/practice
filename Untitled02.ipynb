{
 "cells": [
  {
   "cell_type": "code",
   "execution_count": 8,
   "metadata": {},
   "outputs": [
    {
     "name": "stdout",
     "output_type": "stream",
     "text": [
      "enter your age to identify the stage of life90\n",
      "the person is a elder\n"
     ]
    }
   ],
   "source": [
    "age=int(input(\"enter your age to identify the stage of life\"))\n",
    "if age <=2:\n",
    "    print(\"person is a baby\")\n",
    "elif age<4:\n",
    "    print(\"the person is a toddler\")\n",
    "elif age<13:\n",
    "    print(\"the person is a kid\")\n",
    "elif age<20:\n",
    "    print(\"the person is a teenager\")   \n",
    "elif age<65:\n",
    "    print(\"the person is a adult\")\n",
    "elif age>=65:\n",
    "    print(\"the person is a elder\")\n",
    "else:\n",
    "    print(\"wrong data entry\")"
   ]
  },
  {
   "cell_type": "code",
   "execution_count": 11,
   "metadata": {},
   "outputs": [
    {
     "name": "stdout",
     "output_type": "stream",
     "text": [
      "enter the color of alien you want to hit red\n",
      "you saved alien and earned 10\n"
     ]
    }
   ],
   "source": [
    "#5_ Choose a color for an alien as you did in Exercise 3, and write an if-else chain.\n",
    "alien_color='green'\n",
    "alien_color1=(input(\"enter the color of alien you want to hit \"))\n",
    "\n",
    "\n",
    "if alien_color==alien_color1:\n",
    "    print(\"you earned 5 points\")\n",
    "else:\n",
    "    print(\"you saved alien and earned 10\")"
   ]
  },
  {
   "cell_type": "code",
   "execution_count": 17,
   "metadata": {},
   "outputs": [
    {
     "name": "stdout",
     "output_type": "stream",
     "text": [
      "enter the color of alien you want to hitred\n",
      "no points for this selesction\n"
     ]
    }
   ],
   "source": [
    "#4_ Imagine an alien was just shot down in a game. \n",
    "# Create a variable called alien_color and assign it a value of 'green', 'yellow', or 'red'.\n",
    "alien_color='green'\n",
    "alien_color1=(input(\"enter the color of alien you want to hit\"))\n",
    "\n",
    "\n",
    "if alien_color==alien_color1:\n",
    "    print(\"you earned 5 points\")\n",
    "else:\n",
    "    print(\"no points for this selesction\")"
   ]
  },
  {
   "cell_type": "code",
   "execution_count": 13,
   "metadata": {},
   "outputs": [
    {
     "name": "stdout",
     "output_type": "stream",
     "text": [
      "enter any no. and we will tell its even or odd nature467\n",
      "no. is odd in nature\n"
     ]
    }
   ],
   "source": [
    "#3_ Ask the user for a number. Depending on whether the number is even or odd, print out an appropriate message to the user.\n",
    "num=int(input(\"enter any no. and we will tell its even or odd nature\"))\n",
    "if num%2==0:\n",
    "    print(\"no. is even in nature\")\n",
    "elif num%2==1:\n",
    "    print(\"no. is odd in nature\")"
   ]
  },
  {
   "cell_type": "code",
   "execution_count": 14,
   "metadata": {},
   "outputs": [
    {
     "name": "stdout",
     "output_type": "stream",
     "text": [
      "enter radius445\n",
      "area is= 622194.5499999999\n"
     ]
    }
   ],
   "source": [
    "#2_ Write a Python program which accepts the radius of a circle from the user and compute the area\n",
    "pi=3.142;\n",
    "r=float(input(\"enter radius\"))\n",
    "A=pi*(r*r)\n",
    "print(\"area is=\",A)"
   ]
  },
  {
   "cell_type": "code",
   "execution_count": 16,
   "metadata": {},
   "outputs": [
    {
     "name": "stdout",
     "output_type": "stream",
     "text": [
      "enter your age and we will tell in which year you will be 100yrs old\n",
      "enter your name Komal Shah\n",
      "enter your age 24\n",
      "it will be  2096\n"
     ]
    }
   ],
   "source": [
    "#1_ Create a program that asks the user to enter their name and their age. Print out a message addressed to them that tells them the year that they will turn 100 years old. \"\n",
    "print(\"enter your age and we will tell in which year you will be 100yrs old\")\n",
    "name=(input(\"enter your name \"))\n",
    "age=int(input(\"enter your age \"))\n",
    "year=2020\n",
    "age_1=100-age\n",
    "age_2=year+age_1\n",
    "print(\"it will be \",age_2)"
   ]
  },
  {
   "cell_type": "code",
   "execution_count": 22,
   "metadata": {},
   "outputs": [
    {
     "name": "stdout",
     "output_type": "stream",
     "text": [
      "enter marks of subjects to know what grade you secured\n",
      "enter math marks 90\n",
      "enter english marks 90\n",
      "enter urdu marks 90\n",
      "enter pst marks 90\n",
      "enter drawing marks 90\n",
      "Your marks are:- 450\n",
      "Your percentage is:- 90.0 %\n",
      "you secured 'A+'\n",
      "Congratulation\n"
     ]
    }
   ],
   "source": [
    "print(\"enter marks of subjects to know what grade you secured\")\n",
    "math=int(input(\"enter math marks \"))\n",
    "eng=int(input(\"enter english marks \"))\n",
    "urdu=int(input(\"enter urdu marks \"))\n",
    "pst=int(input(\"enter pst marks \"))\n",
    "drawing=int(input(\"enter drawing marks \"))\n",
    "total_marks=math+eng+urdu+pst+drawing\n",
    "percentage=(total_marks*100)/500\n",
    "print(\"Your marks are:-\",total_marks)\n",
    "print(\"Your percentage is:-\",percentage,\"%\")\n",
    "if percentage>=90:\n",
    "    print(\"you secured 'A+'\")\n",
    "    print(\"Congratulation\")\n",
    "elif percentage>=80:\n",
    "    print(\"you secured 'A' \")\n",
    "    print(\"Welldone\")\n",
    "elif percentage>=70:\n",
    "    print(\"you secured 'B+''\")\n",
    "    print(\"Good Job\")\n",
    "elif percentage>=60:\n",
    "    print(\"you secured 'B'\")\n",
    "    print(\"good\")\n",
    "elif percentage>=50:\n",
    "    print(\"you secured 'C'\")\n",
    "else:\n",
    "    print(\"You failed this session, try again.\")\n"
   ]
  },
  {
   "cell_type": "code",
   "execution_count": null,
   "metadata": {},
   "outputs": [],
   "source": []
  }
 ],
 "metadata": {
  "kernelspec": {
   "display_name": "Python 3",
   "language": "python",
   "name": "python3"
  },
  "language_info": {
   "codemirror_mode": {
    "name": "ipython",
    "version": 3
   },
   "file_extension": ".py",
   "mimetype": "text/x-python",
   "name": "python",
   "nbconvert_exporter": "python",
   "pygments_lexer": "ipython3",
   "version": "3.7.4"
  }
 },
 "nbformat": 4,
 "nbformat_minor": 2
}
