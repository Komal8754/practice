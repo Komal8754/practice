{
 "cells": [
  {
   "cell_type": "markdown",
   "metadata": {},
   "source": [
    "## 1. Divisibility Check of two numbers\n",
    "\n",
    "Write a Python program to check whether a number is completely divisible by another number. Accept two integer values form the user\n",
    "##### Program Console Sample Output 1:\n",
    "Enter numerator: 4\n",
    "\n",
    "Enter Denominator: 2\n",
    "\n",
    "Number 4 is Completely divisible by 2\n",
    "###### Program Console Sample Output 2:\n",
    "Enter numerator: 7\n",
    "\n",
    "Enter Denominator: 4\n",
    "\n",
    "Number 7 is not Completely divisible by 4"
   ]
  },
  {
   "cell_type": "code",
   "execution_count": 8,
   "metadata": {},
   "outputs": [
    {
     "name": "stdout",
     "output_type": "stream",
     "text": [
      "enter the numerator: 4\n",
      "enter the denominator: 2\n",
      "4 is completely divisible by 2\n",
      "enter the numerator: 7\n",
      "enter the denominator: 4\n",
      "7 is not completelt divisible by  4\n"
     ]
    }
   ],
   "source": [
    "user_input1= int(input(\"enter the numerator: \"))\n",
    "user_input2= int(input(\"enter the denominator: \"))\n",
    "if user_input1%user_input2 == 0 :\n",
    "    print(user_input1, \"is completely divisible by\", user_input2)\n",
    "    user_input3= int(input(\"enter the numerator: \"))\n",
    "    user_input4= int(input(\"enter the denominator: \"))\n",
    "    if user_input3%user_input4 != 0 :\n",
    "        print(user_input3, \"is not completelt divisible by \", user_input4)\n",
    "    else :\n",
    "        print(user_input3, \"is completelt divisible by \", user_input4)\n",
    "else :\n",
    "    print(user_input1, \"is not completely divisible by\", user_input2)"
   ]
  },
  {
   "cell_type": "markdown",
   "metadata": {},
   "source": [
    "## 2. Copy string n times\n",
    "Write a Python program to get a string which is n (non-negative integer) copies of a given string.\n",
    "##### Program Console Output:\n",
    "Enter String: Hi\n",
    "\n",
    "How many copies of String you need: 4\n",
    "\n",
    "4 Copies of Hi are HiHiHiHi"
   ]
  },
  {
   "cell_type": "code",
   "execution_count": 19,
   "metadata": {},
   "outputs": [
    {
     "name": "stdout",
     "output_type": "stream",
     "text": [
      "enter a string: hi\n",
      "how many copies you want: 4\n",
      "hihihihi\n"
     ]
    }
   ],
   "source": [
    "n= input(\"enter a string: \")\n",
    "x= int(input(\"how many copies you want: \"))\n",
    "cal= x * n\n",
    "print(cal)"
   ]
  },
  {
   "cell_type": "markdown",
   "metadata": {},
   "source": [
    "## 3. Vowel Tester\n",
    "Write a Python program to test whether a passed letter is a vowel or not\n",
    "#### Program Console Output 1:\n",
    "Enter a character: A\n",
    "\n",
    "Letter A is Vowel\n",
    "#### Program Console Output 2:\n",
    "Enter a character: e\n",
    "\n",
    "Letter e is Vowel\n",
    "#### Program Console Output 2:\n",
    "Enter a character: N\n",
    "Letter N is not Vowel"
   ]
  },
  {
   "cell_type": "code",
   "execution_count": 29,
   "metadata": {},
   "outputs": [
    {
     "name": "stdout",
     "output_type": "stream",
     "text": [
      "enter a character :d\n",
      "D is not vowel\n"
     ]
    }
   ],
   "source": [
    "character1= input(\"enter a character :\")\n",
    "character1=character1.upper()\n",
    "if character1 == 'A' :\n",
    "    print(character1, \"is vowel\") \n",
    "elif character1 =='E' :\n",
    "    print(character, \"is vowel\")\n",
    "elif character1 == 'I' :\n",
    "    print(character, \"is vowel\")\n",
    "elif character1 == 'O' :\n",
    "     print(character, \"is vowel\")\n",
    "elif character1 == 'U' :\n",
    "    print(character, \"is vowel\")\n",
    "else :\n",
    "    print(character1, \"is not vowel\")"
   ]
  },
  {
   "cell_type": "markdown",
   "metadata": {},
   "source": [
    "## 4. Odd No.s\n",
    "Use the third argument of the range() function to make a list of the odd numbers from 1 to 20. Use a for loop to print each number."
   ]
  },
  {
   "cell_type": "code",
   "execution_count": 39,
   "metadata": {},
   "outputs": [
    {
     "name": "stdout",
     "output_type": "stream",
     "text": [
      "enter the number:1\n",
      "1\n",
      "3\n",
      "5\n",
      "7\n",
      "9\n",
      "11\n",
      "13\n",
      "15\n",
      "17\n",
      "19\n"
     ]
    }
   ],
   "source": [
    "x= int(input(\"enter the number:\"))\n",
    "for num in range(1,21):\n",
    "    if num%2 != 0 :\n",
    "        print(num)"
   ]
  },
  {
   "cell_type": "markdown",
   "metadata": {},
   "source": [
    "## 5. Food Slicing\n",
    "Make a python program that contains your nine favourite dishes in a list called foods.Print the message, \n",
    "\n",
    "**The first three items in the list are:**\n",
    "\n",
    "Then use a slice to print the first three items from that program’s list.Print the message, \n",
    "\n",
    "**Three items from the middle of the list are:**\n",
    "\n",
    "Use a slice to print three items from the middle of the list.Print the message, \n",
    "\n",
    "**The last three items in the list are:**\n",
    "\n",
    "Use a slice to print the last three items in the list."
   ]
  },
  {
   "cell_type": "code",
   "execution_count": 40,
   "metadata": {},
   "outputs": [
    {
     "data": {
      "text/plain": [
       "['biryani', 'beef burger', 'fries']"
      ]
     },
     "execution_count": 40,
     "metadata": {},
     "output_type": "execute_result"
    }
   ],
   "source": [
    "dishes = ['biryani', 'beef burger', 'fries', 'nihari', 'apple pie', 'spagetti', 'pasta', 'veg soup', 'fudge cake']\n",
    "slice= dishes[0:3]\n",
    "slice"
   ]
  },
  {
   "cell_type": "code",
   "execution_count": 41,
   "metadata": {},
   "outputs": [
    {
     "data": {
      "text/plain": [
       "['nihari', 'apple pie', 'spagetti']"
      ]
     },
     "execution_count": 41,
     "metadata": {},
     "output_type": "execute_result"
    }
   ],
   "source": [
    "slice= dishes[3:6]\n",
    "slice"
   ]
  },
  {
   "cell_type": "code",
   "execution_count": 42,
   "metadata": {},
   "outputs": [
    {
     "data": {
      "text/plain": [
       "['pasta', 'veg soup', 'fudge cake']"
      ]
     },
     "execution_count": 42,
     "metadata": {},
     "output_type": "execute_result"
    }
   ],
   "source": [
    "slice= dishes[6:9]\n",
    "slice"
   ]
  },
  {
   "cell_type": "code",
   "execution_count": null,
   "metadata": {},
   "outputs": [],
   "source": []
  }
 ],
 "metadata": {
  "kernelspec": {
   "display_name": "Python 3",
   "language": "python",
   "name": "python3"
  },
  "language_info": {
   "codemirror_mode": {
    "name": "ipython",
    "version": 3
   },
   "file_extension": ".py",
   "mimetype": "text/x-python",
   "name": "python",
   "nbconvert_exporter": "python",
   "pygments_lexer": "ipython3",
   "version": "3.7.4"
  }
 },
 "nbformat": 4,
 "nbformat_minor": 2
}
